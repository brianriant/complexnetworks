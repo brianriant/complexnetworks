{
  "cells": [
    {
      "cell_type": "markdown",
      "metadata": {
        "id": "ywwtu6-MWtRS"
      },
      "source": [
        "# **Introduction to python**"
      ]
    },
    {
      "cell_type": "markdown",
      "metadata": {
        "id": "jH9wycyzWtRU"
      },
      "source": [
        "# **Introduction**\n",
        "---\n",
        "\n",
        "* Python is a great general-purpose programming language.\n",
        "* It is a dynamic, interpreted (bytecode-compiled) language.\n",
        "* There are no type declarations of variables, parameters, functions, or methods in source code.\n",
        "* Python tracks the types of all values at runtime and flags the code that does not make sense as it runs."
      ]
    },
    {
      "cell_type": "markdown",
      "source": [
        "# Installing python\n",
        "---\n",
        "*  You can choose to install Python directly on your machine or through a\n",
        "distribution (latest version 3.11.11). To install directly, find the installation instructions for your operating system at https://www.python.org/downloads/.\n",
        "*  Python can also be installed via Anaconda distribution which is (a bundle) of Python, R, and other languages, as well as tools tailored for data science (i.e., Jupyter Notebook and RStudio). It also provides an alternative package manager called conda. The latest version can be found at\n",
        "https://www.anaconda.com/\n",
        "\n",
        "# Python Development Environments\n",
        "---\n",
        "Although Python comes with its own IDLE editor, many developers prefer to\n",
        "use third-party Python text editors and integrated development environments\n",
        "(IDEs) to bring in additional features. Here is a short list:\n",
        "\n",
        "> * Notepad++\n",
        "> * Sublime Text\n",
        "> * Atom/Atom-IDE\n",
        "> * PyCharm\n",
        "> * Spyder\n",
        "> * Visual Studio Code\n",
        "> * Jupyter (web based)\n",
        "> * Google colaboratory (web based)\n",
        "> * Deepnote (web based)\n",
        "> * Kaggle Notebook (web based)\n",
        "\n",
        "We will mostly use Google colab as well as Kaggle notebook.You need a Google account to sign in to use it. Once logged in, you have everything you need and are ready to start programming in Python. You don’t have to worry about which Python version to install, which Python libraries to install, and so on. One of the Google Colab important features is the support for CPU, GPU, and TPU computing. So, you can run your code on GPUs and TPUs for free, though for limited amount of time.\n"
      ],
      "metadata": {
        "id": "T_S2Z5wTh_Il"
      }
    },
    {
      "cell_type": "code",
      "source": [
        "!python --version"
      ],
      "metadata": {
        "colab": {
          "base_uri": "https://localhost:8080/"
        },
        "id": "UX6H5BTQdOW-",
        "outputId": "fc913104-ed0b-407c-e752-3fe67d523f27"
      },
      "execution_count": 2,
      "outputs": [
        {
          "output_type": "stream",
          "name": "stdout",
          "text": [
            "Python 3.11.11\n"
          ]
        }
      ]
    },
    {
      "cell_type": "markdown",
      "source": [
        "# Pyhton identifiers\n",
        "---\n",
        "Python entities such as class, functions, and variables are called identifiers. An identifier can be:\n",
        "\n",
        ">* Combination of upper or lower case letters (a to z or A to Z).\n",
        ">* Any digits (0 to 9) or an underscore (_).\n",
        "\n",
        "The general rules to be followed for writing identifiers in Python:\n",
        ">* Cannot start with a digit. For example, 1variable is not valid,\n",
        "whereas variable1 is valid.\n",
        ">* Python reserved keywords cannot be used as identifiers.\n",
        ">* Except for underscore (_), special symbols like !, @, #, $, %, etc.\n",
        "cannot be part of the identifiers.\n",
        "\n",
        "# Python keywords\n",
        "---\n",
        "Keywords are case sensitive.\n",
        "\n",
        "**Keyword** :\t**Description**\n",
        "\n",
        "> **and** : logical operator\n",
        "\n",
        "> **as** :  to create an alias\n",
        "\n",
        "> **assert** : \tfor debugging\n",
        "\n",
        "> **break** :\tto break out of a loop\n",
        "\n",
        "> **class** : \tto define a class\n",
        "\n",
        "> **continue** : \tto continue to the next iteration of a loop\n",
        "\n",
        "> **def** :\tto define a function\n",
        "\n",
        "> **del** : \tto delete an object\n",
        "\n",
        "> **elif** : \tused in conditional statements, same as else if\n",
        "\n",
        "> **else** : \tused in conditional statements\n",
        "\n",
        "> **except** : \tused with exceptions, what to do when an exception occurs\n",
        "\n",
        "> **False**\t: boolean value, result of comparison operations\n",
        "\n",
        "> **finally** : used with exceptions, a block of code that will be executed no matter if there is an exception or not\n",
        "\n",
        "> **for** : \tto create a for loop\n",
        "\n",
        "> **from** : \tto import specific parts of a module\n",
        "\n",
        "> **global** : \tto declare a global variable\n",
        "\n",
        "> **if** : \tto make a conditional statement\n",
        "\n",
        "> **import** : \tto import a module\n",
        "\n",
        "> **in** : \tto check if a value is present in a list, tuple, etc.\n",
        "\n",
        "> **is** : \tto test if two variables are equal\n",
        "\n",
        "> **lambda** : \tto create an anonymous function\n",
        "\n",
        "> **None** : \trepresents a null value\n",
        "\n",
        "> **nonlocal** : \tto declare a non-local variable\n",
        "\n",
        "> **not** : \ta logical operator\n",
        "\n",
        "> **or** : \ta logical operator\n",
        "\n",
        "> **pass** : \ta null statement, a statement that will do nothing\n",
        "\n",
        "> **raise** :\tto raise an exception\n",
        "\n",
        "> **return** : \tto exit a function and return a value\n",
        "\n",
        "> **True** : \tBoolean value, result of comparison operations\n",
        "\n",
        "> **try** : \tto make a try...except statement\n",
        "\n",
        "> **while** : too create a while loop\n",
        "\n",
        "> **with** : \tused to simplify exception handling\n",
        "\n",
        "> **yield** :  to end a function, returns a generator.\n",
        "\n"
      ],
      "metadata": {
        "id": "mhmQK-_ekx_4"
      }
    },
    {
      "cell_type": "markdown",
      "source": [
        "# Creating variables and assigning values\n",
        "---\n",
        "> * To create a variable in Python, all you need to do is specify the variable name, and then assign a value to it.\n",
        "\n",
        "> * Variable assignment works from left to right.\n",
        "> * Variables names must start with a letter or an underscore.\n",
        "> * The remainder of your variable name may consist of letters, numbers and underscores.\n",
        "> * Names are case sensitive.\n",
        "> * Even though there's no need to specify a data type when declaring a variable in Python, while allocating the\n",
        "necessary area in memory for the variable, the Python interpreter automatically picks the most suitable built-in\n",
        "type for it"
      ],
      "metadata": {
        "id": "WZh_2vnxSh3L"
      }
    },
    {
      "cell_type": "code",
      "source": [
        "# Integer\n",
        "a = 2\n",
        "print(a)\n",
        "# Floating point\n",
        "pi = 3.14\n",
        "print(pi)\n",
        "# String\n",
        "name = 'John Doe'\n",
        "print(name)\n",
        "x = None\n",
        "print(x)\n",
        "# print type of variable\n",
        "a = 2\n",
        "print(type(a))\n",
        "c = 'A'\n",
        "print(type(c))\n",
        "# assign multiple values to multiple variables in one line\n",
        "a, b, c = 1, 2, 3"
      ],
      "metadata": {
        "colab": {
          "base_uri": "https://localhost:8080/"
        },
        "id": "4pqF_NoWTcP6",
        "outputId": "fad502ff-44ed-4a9c-9ba3-c86d0ab3da94"
      },
      "execution_count": 1,
      "outputs": [
        {
          "output_type": "stream",
          "name": "stdout",
          "text": [
            "2\n",
            "3.14\n",
            "John Doe\n",
            "None\n",
            "<class 'int'>\n",
            "<class 'str'>\n"
          ]
        }
      ]
    },
    {
      "cell_type": "markdown",
      "source": [
        "# Python data structures\n",
        "---\n",
        "1.  **Primitive Data Structures** : These data structures contain simplified data values and serve as the foundation for manipulating data. The four primitive data structures are integers (int), float (float), string (str), and boolean (bool).\n",
        "\n",
        "2.  **Non-primitive Data Structures** : These data structures store values, as well as a collection of values, in varying formats. The four built-in non-primitive data structures are lists, tuples, dictionaries, and sets."
      ],
      "metadata": {
        "id": "ooYyyD0lSdq8"
      }
    },
    {
      "cell_type": "code",
      "source": [
        "#integer values\n",
        "num1 = 100\n",
        "num2 = -20\n",
        "# Arithmetic Operations\n",
        "print(num1 + num2) # addition\n",
        "print(num1 - num2) # subtraction\n",
        "print(num1 * num2) # multiplication\n",
        "print(num1 / num2) # division\n",
        "print(num1 % num2 ) # remainder\n",
        "\n",
        "# comparison Operators\n",
        "print(num1 == 100) # checks if the value of the variable is equal to 100\n",
        "print(num1 > -50) # checks if the value of the variable is greater than -50\n",
        "print(num2!=10) # checks if the value is not equal to 10."
      ],
      "metadata": {
        "colab": {
          "base_uri": "https://localhost:8080/"
        },
        "id": "MdtzsKSLmc44",
        "outputId": "811b3f19-9be6-4ccb-f77f-1f566c0cd6c9"
      },
      "execution_count": null,
      "outputs": [
        {
          "output_type": "stream",
          "name": "stdout",
          "text": [
            "80\n",
            "120\n",
            "-2000\n",
            "-5.0\n",
            "0\n",
            "True\n",
            "True\n",
            "True\n"
          ]
        }
      ]
    },
    {
      "cell_type": "code",
      "source": [
        "# float values\n",
        "f1 = 3.14\n",
        "f2 = -0.2245\n",
        "# rounding\n",
        "print(round(f1, 1)) # Rounds off 'f1' up to one decimal places\n",
        "print(round(f2, 3))# Rounds off 'f2' up to three decimal places"
      ],
      "metadata": {
        "colab": {
          "base_uri": "https://localhost:8080/"
        },
        "id": "GGaA3ilgmr5B",
        "outputId": "10673282-1105-465e-a0ff-f10bec8b7a19"
      },
      "execution_count": null,
      "outputs": [
        {
          "output_type": "stream",
          "name": "stdout",
          "text": [
            "3.1\n",
            "-0.225\n"
          ]
        }
      ]
    },
    {
      "cell_type": "code",
      "source": [
        "# complex values\n",
        "complex1 = 3 + 4j\n",
        "complex2 = 1 - 2j\n",
        "\n",
        "# arithmetic operations\n",
        "print(complex1 + complex2) # addition\n",
        "print(complex1 - complex2) # subtraction\n",
        "print(complex1 * complex2) # multiplication\n",
        "print(complex1 / complex2) # division\n",
        "\n",
        "# built-in functions for complex numbers\n",
        "print(complex1.real) # real value\n",
        "print(complex1.imag) # imaginary value\n",
        "print(complex1.conjugate()) # conjugate\n",
        "print(abs(complex1))  # modulus/magnitude"
      ],
      "metadata": {
        "colab": {
          "base_uri": "https://localhost:8080/"
        },
        "id": "O372zXvUm4a8",
        "outputId": "73b6170c-5636-47cd-f667-242e6d3e82d2"
      },
      "execution_count": null,
      "outputs": [
        {
          "output_type": "stream",
          "name": "stdout",
          "text": [
            "(4+2j)\n",
            "(2+6j)\n",
            "(11-2j)\n",
            "(-1+2j)\n",
            "3.0\n",
            "4.0\n",
            "(3-4j)\n",
            "5.0\n"
          ]
        }
      ]
    },
    {
      "cell_type": "code",
      "source": [
        "# string values\n",
        "name = \"John Doe\"\n",
        "address = '123 Main Street'\n",
        "\n",
        "# concatenation\n",
        "fullName = name + \" Smith\"   # concatenates two strings\n",
        "print(fullName)\n",
        "fullAddress = address + \", Apt 2B\"   # concatenates two strings\n",
        "print(fullAddress)\n",
        "\n",
        "# accessing strings\n",
        "first_letter_of_name = name[0] # Gets the first character of the string\n",
        "print(first_letter_of_name)\n",
        "first_three_letters_of_name= name[0:3] #Gets the first 3 characters of the string\n",
        "print(first_three_letters_of_name)\n",
        "last_letter_of_name= name[-1] # Gets the last character of the string\n",
        "print(last_letter_of_name)\n",
        "\n",
        "# length of string\n",
        "length_of_address_string= len(address) # calculates length of the address variable\n",
        "print(length_of_address_string)"
      ],
      "metadata": {
        "colab": {
          "base_uri": "https://localhost:8080/"
        },
        "id": "369LTE4tr-fl",
        "outputId": "08f56bf8-7ab9-46a4-cb73-70b5edff02ca"
      },
      "execution_count": null,
      "outputs": [
        {
          "output_type": "stream",
          "name": "stdout",
          "text": [
            "John Doe Smith\n",
            "123 Main Street, Apt 2B\n",
            "J\n",
            "Joh\n",
            "e\n",
            "15\n"
          ]
        }
      ]
    },
    {
      "cell_type": "markdown",
      "source": [
        "String formatting"
      ],
      "metadata": {
        "id": "ZR-_2oOvycgV"
      }
    },
    {
      "cell_type": "code",
      "source": [
        "s = \"hello\"\n",
        "print(s.capitalize())           # Capitalize a string; prints \"Hello\"\n",
        "print(s.upper())                # Convert a string to uppercase; prints \"HELLO\"\n",
        "print(s.rjust(7))               # Right-justify a string, padding with spaces; prints \"  hello\"\n",
        "print(s.center(7))              # Center a string, padding with spaces; prints \" hello \"\n",
        "print(s.replace('l', '(ell)'))  # Replace all instances of one substring with another;\n",
        "                                # prints \"he(ell)(ell)o\"\n",
        "print('  world '.strip())       # Strip leading and trailing whitespace; prints \"world\""
      ],
      "metadata": {
        "id": "gOGhBBD7yaPY",
        "colab": {
          "base_uri": "https://localhost:8080/"
        },
        "outputId": "a2717597-9de1-4072-864a-b989af237564"
      },
      "execution_count": null,
      "outputs": [
        {
          "output_type": "stream",
          "name": "stdout",
          "text": [
            "Hello\n",
            "HELLO\n",
            "  hello\n",
            " hello \n",
            "he(ell)(ell)o\n",
            "world\n"
          ]
        }
      ]
    },
    {
      "cell_type": "markdown",
      "source": [
        "# Non-primitive data types\n",
        "---\n",
        "1. **Lists and tuples**\n",
        "\n",
        "> * A list in Python is a mutable data type as the elements can be modified, individual elements can be replaced, and the order of elements can be changed even after the list has been created.\n",
        "> * On the other hand a tuple is immutable since once the elements are added to the tuple and the tuple has been created; it remains unchanged. Elemements in lists and tuples can be duplicated.\n",
        "* The elements of a list can be accessed via an index, or numeric representation of their position. Lists in Python are\n",
        "zero-indexed meaning that the first element in the list is at index 0, the second element is at index 1 and so on.\n",
        "* Indices can also be negative which means counting from the end of the list (-1 being the index of the last element)."
      ],
      "metadata": {
        "id": "jf-TZE6Rsqm1"
      }
    },
    {
      "cell_type": "code",
      "source": [
        "#creat list\n",
        "list_a=[1,4,\"Gitam\",6,\"college\", 4]\n",
        "print(list_a)\n",
        "print(list_a[0]) # get first element\n",
        "print(list_a[-1]) # get last element\n",
        "print(list_a[2:4]) # get elements from index 2 up to index 3\n",
        "del list_a[0]  # delete first element from\n",
        "print(list_a.remove('Gitam')) # remove element named Gitam\n",
        "print(list_a)\n",
        "list_a.append('python') # append element at the end of list.\n",
        "print(list_a)\n",
        "list_a.insert(1, 'AI') # insert element at specific position\n",
        "print(list_a)\n",
        "list_a[0]=3 # replace the first element with 3\n",
        "print(list_a)\n",
        "print(list_a.index('AI')) # print the index of element AI\n",
        "print(len(list_a)) # number of elements in the list\n",
        "print(list_a.reverse()) # reverse elements of the list\n",
        "print(list_a[::-1]) # reverse elements of the list\n",
        "list_b=[]  # creates an empty list\n",
        "print(list_b)\n",
        "nested_list = [1, ['a', 'b', 'c'], [1, 2, 3]] # nested list\n",
        "print(nested_list)\n",
        "print(nested_list[1][2])\n",
        "mixed_list = [1, 'abc', True, 2.34, None] # list with different data types\n",
        "print(mixed_list)"
      ],
      "metadata": {
        "id": "r10x2yJqtVWz",
        "colab": {
          "base_uri": "https://localhost:8080/"
        },
        "outputId": "22566f5b-be0d-4eea-9406-3dcfd204dfce"
      },
      "execution_count": null,
      "outputs": [
        {
          "output_type": "stream",
          "name": "stdout",
          "text": [
            "[1, 4, 'Gitam', 6, 'college', 4]\n",
            "1\n",
            "4\n",
            "['Gitam', 6]\n",
            "None\n",
            "[4, 6, 'college', 4]\n",
            "[4, 6, 'college', 4, 'python']\n",
            "[4, 'AI', 6, 'college', 4, 'python']\n",
            "[3, 'AI', 6, 'college', 4, 'python']\n",
            "1\n",
            "6\n",
            "None\n",
            "[3, 'AI', 6, 'college', 4, 'python']\n",
            "[]\n",
            "[1, ['a', 'b', 'c'], [1, 2, 3]]\n",
            "c\n",
            "[1, 'abc', True, 2.34, None]\n"
          ]
        }
      ]
    },
    {
      "cell_type": "markdown",
      "source": [
        "2. **Tuples**\n",
        "> * A tuple is similar to a list except that it is fixed-length and immutable. So the values in the tuple cannot be changed nor the values be added to or removed from the tuple.\n",
        "> * Tuples are commonly used for small collections of values\n",
        "that will not need to change, such as an IP address and port.\n",
        "> * Tuples are represented with parentheses instead of square brackets.\n"
      ],
      "metadata": {
        "id": "qLSNbV5snBSV"
      }
    },
    {
      "cell_type": "markdown",
      "source": [
        "3. **Sets**\n",
        "\n",
        "\n",
        "> A set in python is a collection which is unordered, unchangeable, and unindexed. Once a set is created, you cannot change its items, but you can remove items and add new items. Elements of a set can not be duplicated."
      ],
      "metadata": {
        "id": "XFwDlvC-utPG"
      }
    },
    {
      "cell_type": "code",
      "source": [
        "set1 = {\"apple\", \"banana\", \"cherry\"} # creat a set\n",
        "print(set1)\n",
        "set1={\"apple\", \"banana\", \"cherry\", True, 11} # add elements to the set\n",
        "print(set1)\n",
        "set1.remove('apple') # remove element from set\n",
        "print(set1)"
      ],
      "metadata": {
        "id": "q6Mj7KCzvAUR",
        "colab": {
          "base_uri": "https://localhost:8080/"
        },
        "outputId": "f551ca3f-7f54-48ea-f6e1-d3e7ffe6cf5c"
      },
      "execution_count": null,
      "outputs": [
        {
          "output_type": "stream",
          "name": "stdout",
          "text": [
            "{'cherry', 'banana', 'apple'}\n",
            "{True, 'cherry', 'banana', 11, 'apple'}\n",
            "{True, 'cherry', 'banana', 11}\n"
          ]
        }
      ]
    },
    {
      "cell_type": "code",
      "source": [
        "# define a set A\n",
        "A = {0, 2, 4, 6, 8}; B = {1, 2, 3, 4, 5};\n",
        "#union\n",
        "print(\"Union :\", A | B)\n",
        "\n",
        "#intersection\n",
        "print(\"Intersection :\", A & B)\n",
        "\n",
        "#difference\n",
        "print(\"Difference :\", A - B)\n",
        "\n",
        "#symmetric difference\n",
        "#print(\"Symmetric difference :\", A  B)"
      ],
      "metadata": {
        "id": "vP4R-OZdvOAX",
        "colab": {
          "base_uri": "https://localhost:8080/"
        },
        "outputId": "bbdd3573-574e-4742-c7af-6b0056d0c084"
      },
      "execution_count": null,
      "outputs": [
        {
          "output_type": "stream",
          "name": "stdout",
          "text": [
            "Union : {0, 1, 2, 3, 4, 5, 6, 8}\n",
            "Intersection : {2, 4}\n",
            "Difference : {0, 8, 6}\n"
          ]
        }
      ]
    },
    {
      "cell_type": "markdown",
      "source": [
        "3. **Python dictionaries**\n",
        "\n",
        "> In python, dictionaries are used to store data values in key:value pairs. A dictionary is a collection which is ordered, changeable and do not allow duplicates.\n",
        "**Note:** As of Python version 3.7, dictionaries are ordered. In Python 3.6 and earlier, dictionaries are unordered. Dictionaries are changeable, meaning that we can change, add or remove items after the dictionary has been created. Dictionaries cannot have two items with the same key. The values in dictionary items can be of any data type."
      ],
      "metadata": {
        "id": "tswGQv_yvkuo"
      }
    },
    {
      "cell_type": "code",
      "source": [
        "dict1={\"Name\": \"Mike\", \"Age\": 25}\n",
        "print(dict1)\n",
        "dict2 = dict(name = \"John\", age = 36, country = \"Kenya\") # use method dict() to creat a dictionary\n",
        "print(dict2)\n",
        "\n",
        "dict3 = {\n",
        "  \"brand\": \"Ford\",\n",
        "  \"electric\": False,\n",
        "  \"year\": 1964,\n",
        "  \"colors\": [\"red\", \"white\", \"blue\"]\n",
        "}\n",
        "print(dict3)"
      ],
      "metadata": {
        "id": "GbeyLOvivnAi",
        "colab": {
          "base_uri": "https://localhost:8080/"
        },
        "outputId": "9e7607a7-fd5c-49e8-fad7-1c90e5ebefda"
      },
      "execution_count": null,
      "outputs": [
        {
          "output_type": "stream",
          "name": "stdout",
          "text": [
            "{'Name': 'Mike', 'Age': 25}\n",
            "{'name': 'John', 'age': 36, 'country': 'Kenya'}\n",
            "{'brand': 'Ford', 'electric': False, 'year': 1964, 'colors': ['red', 'white', 'blue']}\n"
          ]
        }
      ]
    },
    {
      "cell_type": "markdown",
      "source": [
        "Python dictionaries are mutable"
      ],
      "metadata": {
        "id": "RNjWrYR3v4sl"
      }
    },
    {
      "cell_type": "code",
      "source": [
        "country_capitals = {\n",
        "  \"United States\": \"Washington D.C\",\n",
        "  \"Italy\": \"Venice\",\n",
        "  \"England\": \"London\"\n",
        "}\n",
        "country_capitals[\"Italy\"] = \"Rome\" # change the value of \"Italy\" key to \"Rome\"\n",
        "print(country_capitals)"
      ],
      "metadata": {
        "id": "rwOVV4PzwADJ"
      },
      "execution_count": null,
      "outputs": []
    },
    {
      "cell_type": "markdown",
      "metadata": {
        "id": "uIMswJ9vWtTN"
      },
      "source": [
        "# Loops\n",
        "---"
      ]
    },
    {
      "cell_type": "markdown",
      "metadata": {
        "id": "zCLi8D5dWtTN"
      },
      "source": [
        "You can loop over the elements of a list like this:"
      ]
    },
    {
      "cell_type": "code",
      "execution_count": null,
      "metadata": {
        "colab": {
          "base_uri": "https://localhost:8080/"
        },
        "id": "P7pRQ29RWtTO",
        "outputId": "51bf9f2e-f3ac-4038-fdb9-d7c0f9ea499a"
      },
      "outputs": [
        {
          "output_type": "stream",
          "name": "stdout",
          "text": [
            "A cat is a domestic animal\n",
            "A dog is a domestic animal\n",
            "A donkey is a domestic animal\n"
          ]
        }
      ],
      "source": [
        "animals = ['cat', 'dog', 'donkey']\n",
        "for animal in animals:\n",
        "    aa = 'A'+' '+animal+ ' '+'is a domestic animal'\n",
        "    print(aa)"
      ]
    },
    {
      "cell_type": "markdown",
      "metadata": {
        "id": "KYM37LTHWtTQ"
      },
      "source": [
        "If you want access to the index of each element within the body of a loop, use the built-in `enumerate` function:"
      ]
    },
    {
      "cell_type": "code",
      "execution_count": null,
      "metadata": {
        "id": "_s1RVQH3WtTQ",
        "outputId": "4afdc828-ae95-43e8-a3f9-cf4ef3a57cb7"
      },
      "outputs": [
        {
          "name": "stdout",
          "output_type": "stream",
          "text": [
            "Item number 1 is a cat\n",
            "Item number 2 is a dog\n",
            "Item number 3 is a monkey\n"
          ]
        }
      ],
      "source": [
        "animals = ['cat', 'dog', 'donkey']\n",
        "for idx, animal in enumerate(animals):\n",
        "    print('Item number %d is a %s' % (idx + 1, animal))"
      ]
    },
    {
      "cell_type": "markdown",
      "source": [
        "It is easy to iterate over the keys in a dictionary:"
      ],
      "metadata": {
        "id": "YmkdoUI08F8t"
      }
    },
    {
      "cell_type": "code",
      "source": [
        "d = {'person': 2, 'cat': 4, 'spider': 8}\n",
        "for animal in d:\n",
        "    legs = d[animal]\n",
        "    print('A %s has %d legs' % (animal, legs))"
      ],
      "metadata": {
        "id": "KXbJCgYt8Ijy",
        "colab": {
          "base_uri": "https://localhost:8080/"
        },
        "outputId": "a0c139e6-e2e3-4661-d009-fea3e547ee27"
      },
      "execution_count": null,
      "outputs": [
        {
          "output_type": "stream",
          "name": "stdout",
          "text": [
            "A person has 2 legs\n",
            "A cat has 4 legs\n",
            "A spider has 8 legs\n"
          ]
        }
      ]
    },
    {
      "cell_type": "markdown",
      "metadata": {
        "id": "qF6-HvKbWtTR"
      },
      "source": [
        "## Conditional loops\n",
        "\n",
        "In Python we have a `while` loop defined as follows."
      ]
    },
    {
      "cell_type": "code",
      "execution_count": null,
      "metadata": {
        "id": "8OTNzMMMWtTS",
        "outputId": "69cca54c-c79b-4c69-a5af-b76b075c227b",
        "colab": {
          "base_uri": "https://localhost:8080/"
        }
      },
      "outputs": [
        {
          "output_type": "stream",
          "name": "stdout",
          "text": [
            "0\n",
            "1\n",
            "2\n"
          ]
        }
      ],
      "source": [
        "i = 0\n",
        "while i < 3:\n",
        "    print(i)\n",
        "    i += 1"
      ]
    },
    {
      "cell_type": "markdown",
      "metadata": {
        "id": "0Ht3GWlZWtTg"
      },
      "source": [
        "# List comprehensions\n",
        "---"
      ]
    },
    {
      "cell_type": "markdown",
      "metadata": {
        "id": "H19ID4kyWtTh"
      },
      "source": [
        "When programming, frequently we want to transform one type of data into another.\n",
        "\n",
        "For example, consider the following code that computes square numbers:"
      ]
    },
    {
      "cell_type": "code",
      "execution_count": null,
      "metadata": {
        "id": "ak9SQJY1WtTh",
        "outputId": "2a16ab23-f4f5-4b24-fb92-61ed3e336c8c",
        "colab": {
          "base_uri": "https://localhost:8080/"
        }
      },
      "outputs": [
        {
          "output_type": "stream",
          "name": "stdout",
          "text": [
            "[0, 1, 4, 9, 16]\n"
          ]
        }
      ],
      "source": [
        "nums = [0, 1, 2, 3, 4]\n",
        "squares = []\n",
        "for x in nums:\n",
        "    squares.append(x ** 2)\n",
        "print(squares)"
      ]
    },
    {
      "cell_type": "markdown",
      "metadata": {
        "id": "_QiSeHoVWtTi"
      },
      "source": [
        "You can make this code simpler using a **list comprehension**:"
      ]
    },
    {
      "cell_type": "code",
      "execution_count": null,
      "metadata": {
        "id": "gbj8GbJKWtTi",
        "outputId": "27f53144-50a9-496d-8cd9-6c940be2bfc2",
        "colab": {
          "base_uri": "https://localhost:8080/"
        }
      },
      "outputs": [
        {
          "output_type": "stream",
          "name": "stdout",
          "text": [
            "[0, 1, 4, 9, 16]\n"
          ]
        }
      ],
      "source": [
        "nums = [0, 1, 2, 3, 4]\n",
        "squares = [x ** 2 for x in nums]\n",
        "print(squares)"
      ]
    },
    {
      "cell_type": "markdown",
      "metadata": {
        "id": "0PDGpre2WtTj"
      },
      "source": [
        "List comprehensions can also contain conditions:"
      ]
    },
    {
      "cell_type": "code",
      "execution_count": null,
      "metadata": {
        "id": "FGr7cTH2WtTj",
        "outputId": "3a6006b4-be9d-4fb3-b5e2-f36d1ab5f8e2",
        "colab": {
          "base_uri": "https://localhost:8080/"
        }
      },
      "outputs": [
        {
          "output_type": "stream",
          "name": "stdout",
          "text": [
            "[0, 4, 16]\n"
          ]
        }
      ],
      "source": [
        "nums = [0, 1, 2, 3, 4]\n",
        "even_squares = [x ** 2 for x in nums if x % 2 == 0]\n",
        "print(even_squares)"
      ]
    },
    {
      "cell_type": "markdown",
      "metadata": {
        "id": "HlBEqU_KWtTt"
      },
      "source": [
        "# Dictionary comprehensions\n",
        "---\n",
        "\n",
        "These are similar to list comprehensions, but allow you to easily construct dictionaries. For example:"
      ]
    },
    {
      "cell_type": "code",
      "execution_count": null,
      "metadata": {
        "id": "ny2UQt5RWtTu",
        "outputId": "84a855ff-202c-4b9c-830f-ba9f96391365",
        "colab": {
          "base_uri": "https://localhost:8080/"
        }
      },
      "outputs": [
        {
          "output_type": "stream",
          "name": "stdout",
          "text": [
            "{0: 0, 2: 4, 4: 16}\n"
          ]
        }
      ],
      "source": [
        "nums = [0, 1, 2, 3, 4]\n",
        "even_num_to_square = {x: x ** 2 for x in nums if x % 2 == 0}\n",
        "print(even_num_to_square)"
      ]
    },
    {
      "cell_type": "markdown",
      "metadata": {
        "id": "qd5U3pLJWtT9"
      },
      "source": [
        "# Set comprehensions\n",
        "---\n",
        "\n",
        "Like lists and dictionaries, we can easily construct sets using set comprehensions:"
      ]
    },
    {
      "cell_type": "code",
      "execution_count": null,
      "metadata": {
        "id": "7Kwp13m3WtT-",
        "outputId": "b4fe5ac1-c49e-46bd-ebf2-09899ca3174d",
        "colab": {
          "base_uri": "https://localhost:8080/"
        }
      },
      "outputs": [
        {
          "output_type": "stream",
          "name": "stdout",
          "text": [
            "Set: {0, 1, 2, 3, 4, 5}\n",
            "List: [0, 1, 1, 1, 2, 2, 2, 2, 2, 3, 3, 3, 3, 3, 3, 3, 4, 4, 4, 4, 4, 4, 4, 4, 4, 5, 5, 5, 5, 5]\n"
          ]
        }
      ],
      "source": [
        "from math import sqrt\n",
        "print('Set:', {int(sqrt(x)) for x in range(30)})\n",
        "print('List:', [int(sqrt(x)) for x in range(30)])"
      ]
    },
    {
      "cell_type": "markdown",
      "metadata": {
        "id": "mWdxQb_aWtU4"
      },
      "source": [
        "# Functions\n",
        "---"
      ]
    },
    {
      "cell_type": "markdown",
      "metadata": {
        "id": "0BgAI-coWtU4"
      },
      "source": [
        "In python programming, functions are defined using the `def` keyword. For example:"
      ]
    },
    {
      "cell_type": "code",
      "execution_count": null,
      "metadata": {
        "collapsed": true,
        "id": "kiz5fGrUWtU5"
      },
      "outputs": [],
      "source": [
        "def sign(x):\n",
        "    if x > 0:\n",
        "        return 'positive number'\n",
        "    elif x < 0:\n",
        "        return 'negative number'\n",
        "    else:\n",
        "        return 'zero'"
      ]
    },
    {
      "cell_type": "code",
      "execution_count": null,
      "metadata": {
        "colab": {
          "base_uri": "https://localhost:8080/"
        },
        "id": "xibWW8dkWtU5",
        "outputId": "58a7aef2-0285-4968-a99f-4454360372fb"
      },
      "outputs": [
        {
          "output_type": "stream",
          "name": "stdout",
          "text": [
            "negative number\n",
            "zero\n",
            "positive number\n"
          ]
        }
      ],
      "source": [
        "for x in [-1, 0, 1]:\n",
        "    print(sign(x))"
      ]
    },
    {
      "cell_type": "markdown",
      "metadata": {
        "id": "Hnu-mnuDWtU6"
      },
      "source": [
        "We will often define functions to take optional keyword arguments, like this:"
      ]
    },
    {
      "cell_type": "code",
      "execution_count": null,
      "metadata": {
        "collapsed": true,
        "id": "XGz3b9OLWtU6"
      },
      "outputs": [],
      "source": [
        "def hello(name, loud=False):\n",
        "    if loud:\n",
        "        print('HELLO, %s' % name.upper())\n",
        "    else:\n",
        "        print('Hello, %s!' % name)"
      ]
    },
    {
      "cell_type": "code",
      "execution_count": null,
      "metadata": {
        "id": "VZB39QimWtU6",
        "outputId": "04ddb3ae-6ca8-4bb2-b4cb-ebad43216c95",
        "colab": {
          "base_uri": "https://localhost:8080/"
        }
      },
      "outputs": [
        {
          "output_type": "stream",
          "name": "stdout",
          "text": [
            "Hello, Bob!\n",
            "HELLO, FRED\n"
          ]
        }
      ],
      "source": [
        "hello('Bob')\n",
        "hello('Fred', loud=True)"
      ]
    },
    {
      "cell_type": "markdown",
      "metadata": {
        "id": "xpfi6KOkWtU7"
      },
      "source": [
        "## $\\lambda$-constructors (inline functions)\n",
        "An inline function is a function defined in a compact way, typically using the lambda function in Python. These are anonymous, single-expression functions that are used where a full function definition is unnecessary."
      ]
    },
    {
      "cell_type": "code",
      "execution_count": null,
      "metadata": {
        "colab": {
          "base_uri": "https://localhost:8080/"
        },
        "id": "wGhgynUIWtU7",
        "outputId": "695555ab-9c38-40e7-c604-40ed116efd39"
      },
      "outputs": [
        {
          "output_type": "stream",
          "name": "stdout",
          "text": [
            "<class 'function'>\n"
          ]
        }
      ],
      "source": [
        "func = lambda x: x**x + 2\n",
        "print(type(func))"
      ]
    },
    {
      "cell_type": "code",
      "execution_count": null,
      "metadata": {
        "colab": {
          "base_uri": "https://localhost:8080/"
        },
        "id": "rEiISArBWtU8",
        "outputId": "abea35f3-001e-4431-d5ff-8fadca446bb9"
      },
      "outputs": [
        {
          "output_type": "execute_result",
          "data": {
            "text/plain": [
              "6"
            ]
          },
          "metadata": {},
          "execution_count": 23
        }
      ],
      "source": [
        "func(2)"
      ]
    },
    {
      "cell_type": "markdown",
      "source": [
        "Other inline functions include map(), filter(), sorted(), reduce().\n",
        "The map() function is used to apply a function to every item in an iterable (like a list or tuple) without using a loop."
      ],
      "metadata": {
        "id": "eLfWAFF2GeBn"
      }
    },
    {
      "cell_type": "code",
      "execution_count": null,
      "metadata": {
        "colab": {
          "base_uri": "https://localhost:8080/"
        },
        "id": "c2oYFhKRWtU8",
        "outputId": "1a3b0ffe-3d01-4d47-aed0-59e284fcdcab"
      },
      "outputs": [
        {
          "output_type": "stream",
          "name": "stdout",
          "text": [
            "[3, 6, 29]\n"
          ]
        },
        {
          "output_type": "execute_result",
          "data": {
            "text/plain": [
              "[3, 6, 29]"
            ]
          },
          "metadata": {},
          "execution_count": 24
        }
      ],
      "source": [
        "x = [1,2,3]\n",
        "\n",
        "print([func(i) for i in x])\n",
        "list(map(lambda x: x**x + 2, x)) # the map() function to avoid loop"
      ]
    },
    {
      "cell_type": "markdown",
      "metadata": {
        "id": "3itW12fiWtVD"
      },
      "source": [
        "# The `import` statement\n",
        "---\n",
        "* We have seen already the `import` statement in action.\n",
        "* Python has a huge number of libraries included with the distribution.\n",
        "* Most of these variables and functions are not accessible from a normal Python interactive session.\n",
        "* Instead, you have to import them."
      ]
    },
    {
      "cell_type": "markdown",
      "metadata": {
        "id": "tXzKVGv3WtVj"
      },
      "source": [
        "# Modules\n",
        "---\n",
        "\n",
        "* A module allows you to logically organize your Python code;\n",
        "* groups related code into a module makes the code easier to understand and use.\n",
        "\n",
        "* A module is a file consisting of Python code, can define functions, classes and variables.\n",
        "* A module can also include runnable code.\n",
        "\n",
        "**Note:** A module is also a Python object with arbitrarily named attributes that you can bind and reference."
      ]
    },
    {
      "cell_type": "markdown",
      "metadata": {
        "id": "wGJ-q7zQWtVk"
      },
      "source": [
        "## Importing complete modules\n",
        "\n",
        "Importing whole modules with an additional short name:"
      ]
    },
    {
      "cell_type": "code",
      "execution_count": null,
      "metadata": {
        "collapsed": true,
        "id": "zJs7wzggWtVk"
      },
      "outputs": [],
      "source": [
        "import scipy.spatial.distance"
      ]
    },
    {
      "cell_type": "code",
      "execution_count": null,
      "metadata": {
        "id": "3_1oXEqOWtVl",
        "outputId": "8270faeb-460a-4b43-c2ad-0326bf2a9fe8"
      },
      "outputs": [
        {
          "data": {
            "text/plain": [
              "1.4142135623730951"
            ]
          },
          "execution_count": 66,
          "metadata": {},
          "output_type": "execute_result"
        }
      ],
      "source": [
        "scipy.spatial.distance.euclidean((1,1), (2,2))"
      ]
    },
    {
      "cell_type": "code",
      "execution_count": null,
      "metadata": {
        "collapsed": true,
        "id": "xzol3SHqWtVq"
      },
      "outputs": [],
      "source": [
        "import scipy.spatial.distance as dists"
      ]
    },
    {
      "cell_type": "code",
      "execution_count": null,
      "metadata": {
        "id": "TDM1NBRnWtVr",
        "outputId": "74f48b89-7467-4349-ea51-c4fe3b4cc573"
      },
      "outputs": [
        {
          "data": {
            "text/plain": [
              "1.4142135623730951"
            ]
          },
          "execution_count": 68,
          "metadata": {},
          "output_type": "execute_result"
        }
      ],
      "source": [
        "dists.euclidean((1,1), (2,2))"
      ]
    },
    {
      "cell_type": "markdown",
      "metadata": {
        "id": "8rNYIRKQWtVr"
      },
      "source": [
        "## Importing a particular function or class.\n",
        "\n",
        "For example, there is a `math` module containing many useful functions. To access, say, the square root function, you can"
      ]
    },
    {
      "cell_type": "code",
      "execution_count": null,
      "metadata": {
        "collapsed": true,
        "id": "J5fqiWv7WtVs"
      },
      "outputs": [],
      "source": [
        "from math import sqrt"
      ]
    },
    {
      "cell_type": "markdown",
      "metadata": {
        "id": "9XQLRQMCWtVs"
      },
      "source": [
        "and then"
      ]
    },
    {
      "cell_type": "code",
      "execution_count": null,
      "metadata": {
        "id": "qBZLmbrXWtVt",
        "outputId": "a7bb8ae3-7a63-4dd4-d418-bc1904921d4f"
      },
      "outputs": [
        {
          "data": {
            "text/plain": [
              "9.0"
            ]
          },
          "execution_count": 70,
          "metadata": {},
          "output_type": "execute_result"
        }
      ],
      "source": [
        "sqrt(81)"
      ]
    },
    {
      "cell_type": "markdown",
      "metadata": {
        "id": "zC_Nex5IWtY6"
      },
      "source": [
        "---"
      ]
    }
  ],
  "metadata": {
    "anaconda-cloud": {},
    "kernelspec": {
      "display_name": "Python 3",
      "language": "python",
      "name": "python3"
    },
    "language_info": {
      "codemirror_mode": {
        "name": "ipython",
        "version": 3
      },
      "file_extension": ".py",
      "mimetype": "text/x-python",
      "name": "python",
      "nbconvert_exporter": "python",
      "pygments_lexer": "ipython3",
      "version": "3.6.2"
    },
    "colab": {
      "provenance": []
    }
  },
  "nbformat": 4,
  "nbformat_minor": 0
}